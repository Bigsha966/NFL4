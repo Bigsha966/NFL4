{
  "nbformat": 4,
  "nbformat_minor": 0,
  "metadata": {
    "colab": {
      "name": "Discussion_3.ipynb",
      "provenance": [],
      "include_colab_link": true
    },
    "kernelspec": {
      "name": "python3",
      "display_name": "Python 3"
    }
  },
  "cells": [
    {
      "cell_type": "markdown",
      "metadata": {
        "id": "view-in-github",
        "colab_type": "text"
      },
      "source": [
        "<a href=\"https://colab.research.google.com/github/Bigsha966/NFL4/blob/main/Discussion_3.ipynb\" target=\"_parent\"><img src=\"https://colab.research.google.com/assets/colab-badge.svg\" alt=\"Open In Colab\"/></a>"
      ]
    },
    {
      "cell_type": "code",
      "metadata": {
        "colab": {
          "base_uri": "https://localhost:8080/"
        },
        "id": "rPWMSS4wr07_",
        "outputId": "f6ebdf03-6238-4051-d5d7-e0162c2b0da0"
      },
      "source": [
        "import numpy as np\r\n",
        "from scipy.misc import derivative                                            \r\n",
        "\r\n",
        "i= 1                                                                             \r\n",
        "x = np.linspace(-1,1,300)  \r\n",
        "\r\n",
        "def func(x):\r\n",
        "  return 1*x**3 + 2*x**2 + 3*x + 4\r\n",
        "\r\n",
        "def another(func, x, i): \r\n",
        "  slope = derivative(func, i, dx=1) \r\n",
        "  return i - func(i)/slope \r\n",
        "\r\n",
        "for value in range (10): \r\n",
        "  print(i)     \r\n",
        "  i = another(func,x,i)\r\n",
        "\r\n"
      ],
      "execution_count": null,
      "outputs": [
        {
          "output_type": "stream",
          "text": [
            "1\n",
            "0.09090909090909094\n",
            "-0.8866632425954459\n",
            "-1.6744984970011652\n",
            "-1.6551057459789007\n",
            "-1.6514395040175798\n",
            "-1.6507748607317467\n",
            "-1.6506553454261905\n",
            "-1.6506338861583216\n",
            "-1.6506300341212758\n"
          ],
          "name": "stdout"
        }
      ]
    },
    {
      "cell_type": "code",
      "metadata": {
        "colab": {
          "base_uri": "https://localhost:8080/",
          "height": 279
        },
        "id": "GemP5LqpB2Er",
        "outputId": "1184c807-3dc1-40b5-e1a2-627c33e11586"
      },
      "source": [
        "import matplotlib.pyplot as plt\r\n",
        "import numpy as np\r\n",
        "\r\n",
        "x = np.linspace(-1,20,50)\r\n",
        "y = 1*x**3 + 2*x**2 + 3*x + 4;\r\n",
        "\r\n",
        "x = np.linspace(-1, 20, 50) \r\n",
        "plt.xlabel(\"x\")\r\n",
        "plt.ylabel(\"y\")\r\n",
        "plt.plot(x, y) \r\n",
        "\r\n",
        "plt.show() "
      ],
      "execution_count": null,
      "outputs": [
        {
          "output_type": "display_data",
          "data": {
            "image/png": "[encoded data removed]",
            "text/plain": [
              "<Figure size 432x288 with 1 Axes>"
            ]
          },
          "metadata": {
            "tags": [],
            "needs_background": "light"
          }
        }
      ]
    }
  ]
}